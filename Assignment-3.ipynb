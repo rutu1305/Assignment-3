{
 "cells": [
  {
   "cell_type": "code",
   "execution_count": null,
   "id": "73e1229f-b232-4551-ad13-66ed9b2b7ce5",
   "metadata": {},
   "outputs": [],
   "source": [
    "1. cricket = [('Sachin Tendulkar', 34357), ('Ricky Ponting', 27483), ('Jack Kallis', 25534), ('Virat Kohli', 24936)]\n",
    "print(\"Original list of tuples:\")\n",
    "print(cricket)\n",
    "cricket.sort(key = lambda x: x[1])\n",
    "print(\"\\nSorting the List of Tuples:\")\n",
    "print(cricket)"
   ]
  },
  {
   "cell_type": "code",
   "execution_count": null,
   "id": "05e9b894-e6a2-4974-90ad-5a8aa5e456ba",
   "metadata": {},
   "outputs": [],
   "source": [
    "2.Using map function:-\n",
    "def square_num(n):\n",
    "  return n * n\n",
    "nums = [1, 2, 3, 4, 5, 6, 7, 8, 9, 10]\n",
    "print(\"Original List: \",nums)\n",
    "result = map(square_num, nums)\n",
    "print(\"Square the elements of the said list using map():\")\n",
    "print(list(result))\n",
    "Using Lambda function:-\n",
    "nums = [1, 2, 3, 4, 5, 6, 7, 8, 9, 10]\n",
    "print(\"Original list of integers:\")\n",
    "print(nums)\n",
    "print(\"\\nSquare every number of the said list:\")\n",
    "square_nums = list(map(lambda x: x ** 2, nums))\n",
    "print(square_nums)\n",
    "print(\"\\nCube every number of the said list:\")\n",
    "cube_nums = list(map(lambda x: x ** 3, nums))\n",
    "print(cube_nums)"
   ]
  },
  {
   "cell_type": "code",
   "execution_count": null,
   "id": "ec0b6dc6-d1b3-46a9-8901-3d2cee37a663",
   "metadata": {},
   "outputs": [],
   "source": [
    "3. nums_list = [1, 2, 3, 4, 5, 6, 7, 8, 9, 10]\n",
    "print(\"Original list :\")\n",
    "print(nums_list)\n",
    "result_list = list(map(str,nums_list))\n",
    "print(\"\\nTuple of strings:\")\n",
    "print(result_tuple)"
   ]
  },
  {
   "cell_type": "code",
   "execution_count": null,
   "id": "6936f729-c921-424d-8949-36dfdbf4208c",
   "metadata": {},
   "outputs": [],
   "source": [
    "4. \n",
    "# python code to demonstrate working of reduce()\n",
    " \n",
    "# importing functools for reduce()\n",
    "import functools\n",
    " \n",
    "# initializing list\n",
    "lis = (1.25)\n",
    " \n",
    "# using reduce to compute sum of list\n",
    "print(\"The sum of the list elements is : \", end=\"\")\n",
    "print(functools.reduce(lambda a, b: a+b, lis))\n",
    " \n",
    "# using reduce to compute maximum element from list\n",
    "print(\"The maximum element of the list is : \", end=\"\")\n",
    "print(functools.reduce(lambda a, b: a if a > b else b, lis))"
   ]
  },
  {
   "cell_type": "code",
   "execution_count": null,
   "id": "33287e61-3906-4929-bdd3-e82a823c5a61",
   "metadata": {},
   "outputs": [],
   "source": [
    "5. Divisible by 2:-\n",
    "# Take a list of numbers.\n",
    "my_list = [2, 3, 6, 9, 27, 60, 90, 120, 55, 46]\n",
    "\n",
    "# use anonymous function to filter and comparing\n",
    "# if divisible or not\n",
    "result = list(filter(lambda x: (x % 2 == 0), my_list))\n",
    "\n",
    "# printing the result\n",
    "print(result)\n",
    "Divisible by 3:-\n",
    "# Take a list of numbers.\n",
    "my_list = [2, 3, 6, 9, 27, 60, 90, 120, 55, 46]\n",
    "\n",
    "# use anonymous function to filter and comparing\n",
    "# if divisible or not\n",
    "result = list(filter(lambda x: (x % 3 == 0), my_list))\n",
    "\n",
    "# printing the result\n",
    "print(result)"
   ]
  },
  {
   "cell_type": "code",
   "execution_count": null,
   "id": "6d832d4a-67c4-4a98-9600-786660be706e",
   "metadata": {},
   "outputs": [],
   "source": [
    "6.Using Lambda and filter function:-\n",
    "texts = ['python', 'php', 'aba', 'radar', 'level']\n",
    "print(\"Orginal list of strings:\")\n",
    "print(texts) \n",
    "result = list(filter(lambda x: , texts)) \n",
    "print(\"\\nList of palindromes:\")\n",
    "print(result) "
   ]
  }
 ],
 "metadata": {
  "kernelspec": {
   "display_name": "Python 3 (ipykernel)",
   "language": "python",
   "name": "python3"
  },
  "language_info": {
   "codemirror_mode": {
    "name": "ipython",
    "version": 3
   },
   "file_extension": ".py",
   "mimetype": "text/x-python",
   "name": "python",
   "nbconvert_exporter": "python",
   "pygments_lexer": "ipython3",
   "version": "3.10.8"
  }
 },
 "nbformat": 4,
 "nbformat_minor": 5
}
